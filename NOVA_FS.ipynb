{
  "nbformat": 4,
  "nbformat_minor": 0,
  "metadata": {
    "colab": {
      "name": "NOVA_FS.ipynb",
      "provenance": [],
      "collapsed_sections": [],
      "include_colab_link": true
    },
    "kernelspec": {
      "name": "python3",
      "display_name": "Python 3"
    },
    "language_info": {
      "name": "python"
    }
  },
  "cells": [
    {
      "cell_type": "markdown",
      "metadata": {
        "id": "view-in-github",
        "colab_type": "text"
      },
      "source": [
        "<a href=\"https://colab.research.google.com/github/farshahid04/AHI-Diabetes-Data/blob/main/NOVA_FS.ipynb\" target=\"_parent\"><img src=\"https://colab.research.google.com/assets/colab-badge.svg\" alt=\"Open In Colab\"/></a>"
      ]
    },
    {
      "cell_type": "code",
      "metadata": {
        "id": "DBA5Tml6DDuD"
      },
      "source": [
        "import pandas as pd\n",
        "import seaborn as sns\n"
      ],
      "execution_count": 115,
      "outputs": []
    },
    {
      "cell_type": "code",
      "metadata": {
        "id": "3YevURYvd3js",
        "colab": {
          "base_uri": "https://localhost:8080/"
        },
        "outputId": "c374c304-2bdd-4067-ec2c-5d6ae2f69cbc"
      },
      "source": [
        "%load_ext rpy2.ipython"
      ],
      "execution_count": 116,
      "outputs": [
        {
          "output_type": "stream",
          "name": "stdout",
          "text": [
            "The rpy2.ipython extension is already loaded. To reload it, use:\n",
            "  %reload_ext rpy2.ipython\n"
          ]
        }
      ]
    },
    {
      "cell_type": "code",
      "metadata": {
        "colab": {
          "base_uri": "https://localhost:8080/"
        },
        "id": "ZX2x7tTmd6Qi",
        "outputId": "ae265f66-4080-4727-ee9b-304d6cbecce0"
      },
      "source": [
        "%%R\n",
        "x <- 42\n",
        "print(x)"
      ],
      "execution_count": 117,
      "outputs": [
        {
          "output_type": "stream",
          "name": "stdout",
          "text": [
            "[1] 42\n"
          ]
        }
      ]
    },
    {
      "cell_type": "code",
      "metadata": {
        "id": "HcHSjgNthUK5",
        "colab": {
          "base_uri": "https://localhost:8080/"
        },
        "outputId": "15e1cd17-77d6-42c5-f157-4bc43771db34"
      },
      "source": [
        "%%R -i df\n",
        "df2 <- df\n",
        "df$encounter_id\n"
      ],
      "execution_count": 118,
      "outputs": [
        {
          "output_type": "stream",
          "name": "stdout",
          "text": [
            "NULL\n"
          ]
        }
      ]
    },
    {
      "cell_type": "code",
      "metadata": {
        "colab": {
          "base_uri": "https://localhost:8080/",
          "height": 424
        },
        "id": "i17mc4ILvkVc",
        "outputId": "86e59993-c0fa-4158-c725-a55836aed352"
      },
      "source": [
        "df= pd.read_csv(\"https://archive.ics.uci.edu/ml/machine-learning-databases/00451/dataR2.csv\")\n",
        "df"
      ],
      "execution_count": 119,
      "outputs": [
        {
          "output_type": "execute_result",
          "data": {
            "text/html": [
              "<div>\n",
              "<style scoped>\n",
              "    .dataframe tbody tr th:only-of-type {\n",
              "        vertical-align: middle;\n",
              "    }\n",
              "\n",
              "    .dataframe tbody tr th {\n",
              "        vertical-align: top;\n",
              "    }\n",
              "\n",
              "    .dataframe thead th {\n",
              "        text-align: right;\n",
              "    }\n",
              "</style>\n",
              "<table border=\"1\" class=\"dataframe\">\n",
              "  <thead>\n",
              "    <tr style=\"text-align: right;\">\n",
              "      <th></th>\n",
              "      <th>Age</th>\n",
              "      <th>BMI</th>\n",
              "      <th>Glucose</th>\n",
              "      <th>Insulin</th>\n",
              "      <th>HOMA</th>\n",
              "      <th>Leptin</th>\n",
              "      <th>Adiponectin</th>\n",
              "      <th>Resistin</th>\n",
              "      <th>MCP.1</th>\n",
              "      <th>Classification</th>\n",
              "    </tr>\n",
              "  </thead>\n",
              "  <tbody>\n",
              "    <tr>\n",
              "      <th>0</th>\n",
              "      <td>48</td>\n",
              "      <td>23.500000</td>\n",
              "      <td>70</td>\n",
              "      <td>2.707</td>\n",
              "      <td>0.467409</td>\n",
              "      <td>8.8071</td>\n",
              "      <td>9.702400</td>\n",
              "      <td>7.99585</td>\n",
              "      <td>417.114</td>\n",
              "      <td>1</td>\n",
              "    </tr>\n",
              "    <tr>\n",
              "      <th>1</th>\n",
              "      <td>83</td>\n",
              "      <td>20.690495</td>\n",
              "      <td>92</td>\n",
              "      <td>3.115</td>\n",
              "      <td>0.706897</td>\n",
              "      <td>8.8438</td>\n",
              "      <td>5.429285</td>\n",
              "      <td>4.06405</td>\n",
              "      <td>468.786</td>\n",
              "      <td>1</td>\n",
              "    </tr>\n",
              "    <tr>\n",
              "      <th>2</th>\n",
              "      <td>82</td>\n",
              "      <td>23.124670</td>\n",
              "      <td>91</td>\n",
              "      <td>4.498</td>\n",
              "      <td>1.009651</td>\n",
              "      <td>17.9393</td>\n",
              "      <td>22.432040</td>\n",
              "      <td>9.27715</td>\n",
              "      <td>554.697</td>\n",
              "      <td>1</td>\n",
              "    </tr>\n",
              "    <tr>\n",
              "      <th>3</th>\n",
              "      <td>68</td>\n",
              "      <td>21.367521</td>\n",
              "      <td>77</td>\n",
              "      <td>3.226</td>\n",
              "      <td>0.612725</td>\n",
              "      <td>9.8827</td>\n",
              "      <td>7.169560</td>\n",
              "      <td>12.76600</td>\n",
              "      <td>928.220</td>\n",
              "      <td>1</td>\n",
              "    </tr>\n",
              "    <tr>\n",
              "      <th>4</th>\n",
              "      <td>86</td>\n",
              "      <td>21.111111</td>\n",
              "      <td>92</td>\n",
              "      <td>3.549</td>\n",
              "      <td>0.805386</td>\n",
              "      <td>6.6994</td>\n",
              "      <td>4.819240</td>\n",
              "      <td>10.57635</td>\n",
              "      <td>773.920</td>\n",
              "      <td>1</td>\n",
              "    </tr>\n",
              "    <tr>\n",
              "      <th>...</th>\n",
              "      <td>...</td>\n",
              "      <td>...</td>\n",
              "      <td>...</td>\n",
              "      <td>...</td>\n",
              "      <td>...</td>\n",
              "      <td>...</td>\n",
              "      <td>...</td>\n",
              "      <td>...</td>\n",
              "      <td>...</td>\n",
              "      <td>...</td>\n",
              "    </tr>\n",
              "    <tr>\n",
              "      <th>111</th>\n",
              "      <td>45</td>\n",
              "      <td>26.850000</td>\n",
              "      <td>92</td>\n",
              "      <td>3.330</td>\n",
              "      <td>0.755688</td>\n",
              "      <td>54.6800</td>\n",
              "      <td>12.100000</td>\n",
              "      <td>10.96000</td>\n",
              "      <td>268.230</td>\n",
              "      <td>2</td>\n",
              "    </tr>\n",
              "    <tr>\n",
              "      <th>112</th>\n",
              "      <td>62</td>\n",
              "      <td>26.840000</td>\n",
              "      <td>100</td>\n",
              "      <td>4.530</td>\n",
              "      <td>1.117400</td>\n",
              "      <td>12.4500</td>\n",
              "      <td>21.420000</td>\n",
              "      <td>7.32000</td>\n",
              "      <td>330.160</td>\n",
              "      <td>2</td>\n",
              "    </tr>\n",
              "    <tr>\n",
              "      <th>113</th>\n",
              "      <td>65</td>\n",
              "      <td>32.050000</td>\n",
              "      <td>97</td>\n",
              "      <td>5.730</td>\n",
              "      <td>1.370998</td>\n",
              "      <td>61.4800</td>\n",
              "      <td>22.540000</td>\n",
              "      <td>10.33000</td>\n",
              "      <td>314.050</td>\n",
              "      <td>2</td>\n",
              "    </tr>\n",
              "    <tr>\n",
              "      <th>114</th>\n",
              "      <td>72</td>\n",
              "      <td>25.590000</td>\n",
              "      <td>82</td>\n",
              "      <td>2.820</td>\n",
              "      <td>0.570392</td>\n",
              "      <td>24.9600</td>\n",
              "      <td>33.750000</td>\n",
              "      <td>3.27000</td>\n",
              "      <td>392.460</td>\n",
              "      <td>2</td>\n",
              "    </tr>\n",
              "    <tr>\n",
              "      <th>115</th>\n",
              "      <td>86</td>\n",
              "      <td>27.180000</td>\n",
              "      <td>138</td>\n",
              "      <td>19.910</td>\n",
              "      <td>6.777364</td>\n",
              "      <td>90.2800</td>\n",
              "      <td>14.110000</td>\n",
              "      <td>4.35000</td>\n",
              "      <td>90.090</td>\n",
              "      <td>2</td>\n",
              "    </tr>\n",
              "  </tbody>\n",
              "</table>\n",
              "<p>116 rows × 10 columns</p>\n",
              "</div>"
            ],
            "text/plain": [
              "     Age        BMI  Glucose  ...  Resistin    MCP.1  Classification\n",
              "0     48  23.500000       70  ...   7.99585  417.114               1\n",
              "1     83  20.690495       92  ...   4.06405  468.786               1\n",
              "2     82  23.124670       91  ...   9.27715  554.697               1\n",
              "3     68  21.367521       77  ...  12.76600  928.220               1\n",
              "4     86  21.111111       92  ...  10.57635  773.920               1\n",
              "..   ...        ...      ...  ...       ...      ...             ...\n",
              "111   45  26.850000       92  ...  10.96000  268.230               2\n",
              "112   62  26.840000      100  ...   7.32000  330.160               2\n",
              "113   65  32.050000       97  ...  10.33000  314.050               2\n",
              "114   72  25.590000       82  ...   3.27000  392.460               2\n",
              "115   86  27.180000      138  ...   4.35000   90.090               2\n",
              "\n",
              "[116 rows x 10 columns]"
            ]
          },
          "metadata": {},
          "execution_count": 119
        }
      ]
    },
    {
      "cell_type": "markdown",
      "metadata": {
        "id": "tv1P-raJn1Lw"
      },
      "source": [
        "Breast Cancer Coimbra Data Set varible\n",
        "\n",
        "DV = Insulin \n",
        "\n",
        "IV Factor I = Glucose\n",
        "\n",
        "IV Factor II= Age"
      ]
    },
    {
      "cell_type": "markdown",
      "metadata": {
        "id": "oxON-KiX7JgS"
      },
      "source": [
        "Quantitative Attributes:\n",
        "Age (years)\n",
        "\n",
        "BMI (kg/m2)\n",
        "\n",
        "Glucose (mg/dL)\n",
        "\n",
        "Insulin (µU/mL)\n",
        "\n",
        "HOMA\n",
        "\n",
        "Leptin (ng/mL)\n",
        "\n",
        "Adiponectin (µg/mL)\n",
        "\n",
        "Resistin (ng/mL)\n",
        "\n",
        "MCP-1(pg/dL)\n",
        "\n",
        "Labels:\n",
        "1=Healthy controls\n",
        "\n",
        "2=Patients\n",
        "\n"
      ]
    },
    {
      "cell_type": "code",
      "metadata": {
        "id": "7G-NwAShqP4c"
      },
      "source": [
        "import seaborn as sns"
      ],
      "execution_count": 122,
      "outputs": []
    },
    {
      "cell_type": "code",
      "metadata": {
        "colab": {
          "base_uri": "https://localhost:8080/",
          "height": 296
        },
        "id": "Zti5BOVIqk9r",
        "outputId": "688cce01-ee8e-4e78-a8f4-00dfd0746c32"
      },
      "source": [
        "# generate a boxplot to see the data distribution by Glucose and BMI. Using boxplot, we can easily detect the \n",
        "# differences between different groups\n",
        "sns.boxplot(x=\"Age\", y=\"Glucose\", data=df, palette=\"Set3\") "
      ],
      "execution_count": 121,
      "outputs": [
        {
          "output_type": "execute_result",
          "data": {
            "text/plain": [
              "<matplotlib.axes._subplots.AxesSubplot at 0x7f3036abcf90>"
            ]
          },
          "metadata": {},
          "execution_count": 121
        },
        {
          "output_type": "display_data",
          "data": {
            "image/png": "[encoded data removed]",
            "text/plain": [
              "<Figure size 432x288 with 1 Axes>"
            ]
          },
          "metadata": {
            "needs_background": "light"
          }
        }
      ]
    },
    {
      "cell_type": "code",
      "metadata": {
        "colab": {
          "base_uri": "https://localhost:8080/"
        },
        "id": "GExZgiYQTjxI",
        "outputId": "65683099-6a53-4184-9665-d4360b19c696"
      },
      "source": [
        "list(df)"
      ],
      "execution_count": 123,
      "outputs": [
        {
          "output_type": "execute_result",
          "data": {
            "text/plain": [
              "['Age',\n",
              " 'BMI',\n",
              " 'Glucose',\n",
              " 'Insulin',\n",
              " 'HOMA',\n",
              " 'Leptin',\n",
              " 'Adiponectin',\n",
              " 'Resistin',\n",
              " 'MCP.1',\n",
              " 'Classification']"
            ]
          },
          "metadata": {},
          "execution_count": 123
        }
      ]
    },
    {
      "cell_type": "code",
      "metadata": {
        "colab": {
          "base_uri": "https://localhost:8080/",
          "height": 296
        },
        "id": "OYqWPpA2TLZx",
        "outputId": "a2596c40-1499-4bb5-9691-0b53a75ca431"
      },
      "source": [
        "sns.boxplot(x=\"Glucose\", y=\"Age\", hue='Classification', data=df, palette=\"Set3\") \n"
      ],
      "execution_count": 124,
      "outputs": [
        {
          "output_type": "execute_result",
          "data": {
            "text/plain": [
              "<matplotlib.axes._subplots.AxesSubplot at 0x7f3036571650>"
            ]
          },
          "metadata": {},
          "execution_count": 124
        },
        {
          "output_type": "display_data",
          "data": {
            "image/png": "[encoded data removed]",
            "text/plain": [
              "<Figure size 432x288 with 1 Axes>"
            ]
          },
          "metadata": {
            "needs_background": "light"
          }
        }
      ]
    },
    {
      "cell_type": "code",
      "metadata": {
        "colab": {
          "base_uri": "https://localhost:8080/"
        },
        "id": "QqIuh5znT9YE",
        "outputId": "9cd63df6-d841-4587-a0e5-408f19f88429"
      },
      "source": [
        "df.Insulin.describe()"
      ],
      "execution_count": 125,
      "outputs": [
        {
          "output_type": "execute_result",
          "data": {
            "text/plain": [
              "count    116.000000\n",
              "mean      10.012086\n",
              "std       10.067768\n",
              "min        2.432000\n",
              "25%        4.359250\n",
              "50%        5.924500\n",
              "75%       11.189250\n",
              "max       58.460000\n",
              "Name: Insulin, dtype: float64"
            ]
          },
          "metadata": {},
          "execution_count": 125
        }
      ]
    },
    {
      "cell_type": "code",
      "metadata": {
        "id": "_bhCbFNnULrV"
      },
      "source": [
        "def my_recode(insulinvariable):\n",
        "    if insulinvariable <= 5.92:\n",
        "        return 'Low'\n",
        "    else:\n",
        "        return 'High'"
      ],
      "execution_count": 126,
      "outputs": []
    },
    {
      "cell_type": "code",
      "metadata": {
        "id": "xwty6hpPUyup"
      },
      "source": [
        "df['insulin2'] = df['Insulin'].apply(my_recode)\n"
      ],
      "execution_count": 127,
      "outputs": []
    },
    {
      "cell_type": "code",
      "metadata": {
        "colab": {
          "base_uri": "https://localhost:8080/"
        },
        "id": "YA1wrxh6ULzI",
        "outputId": "726d617d-993c-4429-ce75-269ed23af224"
      },
      "source": [
        "df['insulin2']"
      ],
      "execution_count": 128,
      "outputs": [
        {
          "output_type": "execute_result",
          "data": {
            "text/plain": [
              "0       Low\n",
              "1       Low\n",
              "2       Low\n",
              "3       Low\n",
              "4       Low\n",
              "       ... \n",
              "111     Low\n",
              "112     Low\n",
              "113     Low\n",
              "114     Low\n",
              "115    High\n",
              "Name: insulin2, Length: 116, dtype: object"
            ]
          },
          "metadata": {},
          "execution_count": 128
        }
      ]
    },
    {
      "cell_type": "code",
      "metadata": {
        "colab": {
          "base_uri": "https://localhost:8080/",
          "height": 296
        },
        "id": "K5IDz6oJU57F",
        "outputId": "803e5fb1-04ff-475a-fc91-232f5bc9d857"
      },
      "source": [
        "sns.boxplot(x=\"Age\", y=\"Glucose\", hue='insulin2', data=df, palette=\"Set3\") \n"
      ],
      "execution_count": 129,
      "outputs": [
        {
          "output_type": "execute_result",
          "data": {
            "text/plain": [
              "<matplotlib.axes._subplots.AxesSubplot at 0x7f30378c3b50>"
            ]
          },
          "metadata": {},
          "execution_count": 129
        },
        {
          "output_type": "display_data",
          "data": {
            "image/png": "[encoded data removed]",
            "text/plain": [
              "<Figure size 432x288 with 1 Axes>"
            ]
          },
          "metadata": {
            "needs_background": "light"
          }
        }
      ]
    },
    {
      "cell_type": "code",
      "metadata": {
        "id": "YvATvlVkRKIu"
      },
      "source": [
        "workingdf = df [['Glucose', 'Classification', 'Age']]"
      ],
      "execution_count": 152,
      "outputs": []
    },
    {
      "cell_type": "code",
      "metadata": {
        "colab": {
          "base_uri": "https://localhost:8080/",
          "height": 424
        },
        "id": "E1J1mpGYwwTx",
        "outputId": "66940ded-da52-4606-c820-f466b9f19b72"
      },
      "source": [
        "workingdf"
      ],
      "execution_count": 153,
      "outputs": [
        {
          "output_type": "execute_result",
          "data": {
            "text/html": [
              "<div>\n",
              "<style scoped>\n",
              "    .dataframe tbody tr th:only-of-type {\n",
              "        vertical-align: middle;\n",
              "    }\n",
              "\n",
              "    .dataframe tbody tr th {\n",
              "        vertical-align: top;\n",
              "    }\n",
              "\n",
              "    .dataframe thead th {\n",
              "        text-align: right;\n",
              "    }\n",
              "</style>\n",
              "<table border=\"1\" class=\"dataframe\">\n",
              "  <thead>\n",
              "    <tr style=\"text-align: right;\">\n",
              "      <th></th>\n",
              "      <th>Glucose</th>\n",
              "      <th>Classification</th>\n",
              "      <th>Age</th>\n",
              "    </tr>\n",
              "  </thead>\n",
              "  <tbody>\n",
              "    <tr>\n",
              "      <th>0</th>\n",
              "      <td>70</td>\n",
              "      <td>1</td>\n",
              "      <td>48</td>\n",
              "    </tr>\n",
              "    <tr>\n",
              "      <th>1</th>\n",
              "      <td>92</td>\n",
              "      <td>1</td>\n",
              "      <td>83</td>\n",
              "    </tr>\n",
              "    <tr>\n",
              "      <th>2</th>\n",
              "      <td>91</td>\n",
              "      <td>1</td>\n",
              "      <td>82</td>\n",
              "    </tr>\n",
              "    <tr>\n",
              "      <th>3</th>\n",
              "      <td>77</td>\n",
              "      <td>1</td>\n",
              "      <td>68</td>\n",
              "    </tr>\n",
              "    <tr>\n",
              "      <th>4</th>\n",
              "      <td>92</td>\n",
              "      <td>1</td>\n",
              "      <td>86</td>\n",
              "    </tr>\n",
              "    <tr>\n",
              "      <th>...</th>\n",
              "      <td>...</td>\n",
              "      <td>...</td>\n",
              "      <td>...</td>\n",
              "    </tr>\n",
              "    <tr>\n",
              "      <th>111</th>\n",
              "      <td>92</td>\n",
              "      <td>2</td>\n",
              "      <td>45</td>\n",
              "    </tr>\n",
              "    <tr>\n",
              "      <th>112</th>\n",
              "      <td>100</td>\n",
              "      <td>2</td>\n",
              "      <td>62</td>\n",
              "    </tr>\n",
              "    <tr>\n",
              "      <th>113</th>\n",
              "      <td>97</td>\n",
              "      <td>2</td>\n",
              "      <td>65</td>\n",
              "    </tr>\n",
              "    <tr>\n",
              "      <th>114</th>\n",
              "      <td>82</td>\n",
              "      <td>2</td>\n",
              "      <td>72</td>\n",
              "    </tr>\n",
              "    <tr>\n",
              "      <th>115</th>\n",
              "      <td>138</td>\n",
              "      <td>2</td>\n",
              "      <td>86</td>\n",
              "    </tr>\n",
              "  </tbody>\n",
              "</table>\n",
              "<p>116 rows × 3 columns</p>\n",
              "</div>"
            ],
            "text/plain": [
              "     Glucose  Classification  Age\n",
              "0         70               1   48\n",
              "1         92               1   83\n",
              "2         91               1   82\n",
              "3         77               1   68\n",
              "4         92               1   86\n",
              "..       ...             ...  ...\n",
              "111       92               2   45\n",
              "112      100               2   62\n",
              "113       97               2   65\n",
              "114       82               2   72\n",
              "115      138               2   86\n",
              "\n",
              "[116 rows x 3 columns]"
            ]
          },
          "metadata": {},
          "execution_count": 153
        }
      ]
    },
    {
      "cell_type": "code",
      "metadata": {
        "colab": {
          "base_uri": "https://localhost:8080/",
          "height": 300
        },
        "id": "FDF70nERxHEJ",
        "outputId": "0a4554d8-7607-42a2-d995-f1bfe8215b70"
      },
      "source": [
        "descriptive = workingdf.describe()\n",
        "descriptive"
      ],
      "execution_count": 154,
      "outputs": [
        {
          "output_type": "execute_result",
          "data": {
            "text/html": [
              "<div>\n",
              "<style scoped>\n",
              "    .dataframe tbody tr th:only-of-type {\n",
              "        vertical-align: middle;\n",
              "    }\n",
              "\n",
              "    .dataframe tbody tr th {\n",
              "        vertical-align: top;\n",
              "    }\n",
              "\n",
              "    .dataframe thead th {\n",
              "        text-align: right;\n",
              "    }\n",
              "</style>\n",
              "<table border=\"1\" class=\"dataframe\">\n",
              "  <thead>\n",
              "    <tr style=\"text-align: right;\">\n",
              "      <th></th>\n",
              "      <th>Glucose</th>\n",
              "      <th>Classification</th>\n",
              "      <th>Age</th>\n",
              "    </tr>\n",
              "  </thead>\n",
              "  <tbody>\n",
              "    <tr>\n",
              "      <th>count</th>\n",
              "      <td>116.000000</td>\n",
              "      <td>116.000000</td>\n",
              "      <td>116.000000</td>\n",
              "    </tr>\n",
              "    <tr>\n",
              "      <th>mean</th>\n",
              "      <td>97.793103</td>\n",
              "      <td>1.551724</td>\n",
              "      <td>57.301724</td>\n",
              "    </tr>\n",
              "    <tr>\n",
              "      <th>std</th>\n",
              "      <td>22.525162</td>\n",
              "      <td>0.499475</td>\n",
              "      <td>16.112766</td>\n",
              "    </tr>\n",
              "    <tr>\n",
              "      <th>min</th>\n",
              "      <td>60.000000</td>\n",
              "      <td>1.000000</td>\n",
              "      <td>24.000000</td>\n",
              "    </tr>\n",
              "    <tr>\n",
              "      <th>25%</th>\n",
              "      <td>85.750000</td>\n",
              "      <td>1.000000</td>\n",
              "      <td>45.000000</td>\n",
              "    </tr>\n",
              "    <tr>\n",
              "      <th>50%</th>\n",
              "      <td>92.000000</td>\n",
              "      <td>2.000000</td>\n",
              "      <td>56.000000</td>\n",
              "    </tr>\n",
              "    <tr>\n",
              "      <th>75%</th>\n",
              "      <td>102.000000</td>\n",
              "      <td>2.000000</td>\n",
              "      <td>71.000000</td>\n",
              "    </tr>\n",
              "    <tr>\n",
              "      <th>max</th>\n",
              "      <td>201.000000</td>\n",
              "      <td>2.000000</td>\n",
              "      <td>89.000000</td>\n",
              "    </tr>\n",
              "  </tbody>\n",
              "</table>\n",
              "</div>"
            ],
            "text/plain": [
              "          Glucose  Classification         Age\n",
              "count  116.000000      116.000000  116.000000\n",
              "mean    97.793103        1.551724   57.301724\n",
              "std     22.525162        0.499475   16.112766\n",
              "min     60.000000        1.000000   24.000000\n",
              "25%     85.750000        1.000000   45.000000\n",
              "50%     92.000000        2.000000   56.000000\n",
              "75%    102.000000        2.000000   71.000000\n",
              "max    201.000000        2.000000   89.000000"
            ]
          },
          "metadata": {},
          "execution_count": 154
        }
      ]
    },
    {
      "cell_type": "code",
      "metadata": {
        "id": "G3MYEXwTHGDk"
      },
      "source": [
        "Glucose_counts = workingdf['Glucose'].value_counts()"
      ],
      "execution_count": 155,
      "outputs": []
    },
    {
      "cell_type": "code",
      "metadata": {
        "colab": {
          "base_uri": "https://localhost:8080/"
        },
        "id": "m-pXrlXmHSuO",
        "outputId": "4324191d-14be-4626-cbc0-46435b3f2df7"
      },
      "source": [
        "Glucose_counts"
      ],
      "execution_count": 156,
      "outputs": [
        {
          "output_type": "execute_result",
          "data": {
            "text/plain": [
              "92     9\n",
              "90     6\n",
              "97     4\n",
              "77     4\n",
              "82     4\n",
              "83     4\n",
              "85     4\n",
              "86     4\n",
              "87     4\n",
              "103    4\n",
              "101    4\n",
              "88     3\n",
              "84     3\n",
              "89     3\n",
              "93     3\n",
              "94     3\n",
              "95     3\n",
              "98     3\n",
              "100    3\n",
              "102    3\n",
              "106    2\n",
              "112    2\n",
              "99     2\n",
              "131    2\n",
              "78     2\n",
              "70     2\n",
              "105    2\n",
              "134    2\n",
              "201    1\n",
              "199    1\n",
              "60     1\n",
              "138    1\n",
              "139    1\n",
              "75     1\n",
              "152    1\n",
              "196    1\n",
              "74     1\n",
              "119    1\n",
              "76     1\n",
              "79     1\n",
              "80     1\n",
              "118    1\n",
              "91     1\n",
              "96     1\n",
              "104    1\n",
              "108    1\n",
              "110    1\n",
              "114    1\n",
              "116    1\n",
              "128    1\n",
              "Name: Glucose, dtype: int64"
            ]
          },
          "metadata": {},
          "execution_count": 156
        }
      ]
    },
    {
      "cell_type": "code",
      "metadata": {
        "id": "f7kfzOfSz9Xg"
      },
      "source": [
        "Age_counts = workingdf['Age'].value_counts()"
      ],
      "execution_count": 157,
      "outputs": []
    },
    {
      "cell_type": "code",
      "metadata": {
        "colab": {
          "base_uri": "https://localhost:8080/"
        },
        "id": "5sgIeovDndqp",
        "outputId": "bbcb5cc9-8fca-4aa4-dc12-4bbe123290f8"
      },
      "source": [
        "Age_counts"
      ],
      "execution_count": 158,
      "outputs": [
        {
          "output_type": "execute_result",
          "data": {
            "text/plain": [
              "45    7\n",
              "49    5\n",
              "66    5\n",
              "69    5\n",
              "48    4\n",
              "51    4\n",
              "76    4\n",
              "75    4\n",
              "44    4\n",
              "68    3\n",
              "46    3\n",
              "43    3\n",
              "54    3\n",
              "86    3\n",
              "34    3\n",
              "65    3\n",
              "71    3\n",
              "72    3\n",
              "85    2\n",
              "82    2\n",
              "42    2\n",
              "29    2\n",
              "40    2\n",
              "77    2\n",
              "38    2\n",
              "36    2\n",
              "59    2\n",
              "60    2\n",
              "35    2\n",
              "62    2\n",
              "64    2\n",
              "73    2\n",
              "32    1\n",
              "41    1\n",
              "28    1\n",
              "25    1\n",
              "89    1\n",
              "57    1\n",
              "47    1\n",
              "50    1\n",
              "52    1\n",
              "53    1\n",
              "55    1\n",
              "58    1\n",
              "61    1\n",
              "67    1\n",
              "74    1\n",
              "78    1\n",
              "81    1\n",
              "83    1\n",
              "24    1\n",
              "Name: Age, dtype: int64"
            ]
          },
          "metadata": {},
          "execution_count": 158
        }
      ]
    },
    {
      "cell_type": "code",
      "metadata": {
        "id": "UiY-CagjHrGU"
      },
      "source": [
        "import statsmodels.api as sm\n",
        "from statsmodels.formula.api import ols\n"
      ],
      "execution_count": 159,
      "outputs": []
    },
    {
      "cell_type": "code",
      "metadata": {
        "id": "H3kAC3FCIuSm"
      },
      "source": [
        "ols('Classification ~ C(Age) + C(Glucose)' , data=workingdf).fit()\n",
        "model = ols('Classification ~ C(Age) + C(Glucose)', data=workingdf).fit()\n"
      ],
      "execution_count": 162,
      "outputs": []
    },
    {
      "cell_type": "code",
      "metadata": {
        "colab": {
          "base_uri": "https://localhost:8080/",
          "height": 143
        },
        "id": "GXUIxIwmLyKB",
        "outputId": "c61f6ac6-e74a-4efe-b628-4f7e5f17970d"
      },
      "source": [
        "anova_table = sm.stats.anova_lm(model,typ=2)\n",
        "anova_table"
      ],
      "execution_count": 163,
      "outputs": [
        {
          "output_type": "execute_result",
          "data": {
            "text/html": [
              "<div>\n",
              "<style scoped>\n",
              "    .dataframe tbody tr th:only-of-type {\n",
              "        vertical-align: middle;\n",
              "    }\n",
              "\n",
              "    .dataframe tbody tr th {\n",
              "        vertical-align: top;\n",
              "    }\n",
              "\n",
              "    .dataframe thead th {\n",
              "        text-align: right;\n",
              "    }\n",
              "</style>\n",
              "<table border=\"1\" class=\"dataframe\">\n",
              "  <thead>\n",
              "    <tr style=\"text-align: right;\">\n",
              "      <th></th>\n",
              "      <th>sum_sq</th>\n",
              "      <th>df</th>\n",
              "      <th>F</th>\n",
              "      <th>PR(&gt;F)</th>\n",
              "    </tr>\n",
              "  </thead>\n",
              "  <tbody>\n",
              "    <tr>\n",
              "      <th>C(Age)</th>\n",
              "      <td>12.284282</td>\n",
              "      <td>50.0</td>\n",
              "      <td>1.119552</td>\n",
              "      <td>0.403885</td>\n",
              "    </tr>\n",
              "    <tr>\n",
              "      <th>C(Glucose)</th>\n",
              "      <td>11.768145</td>\n",
              "      <td>49.0</td>\n",
              "      <td>1.094401</td>\n",
              "      <td>0.426949</td>\n",
              "    </tr>\n",
              "    <tr>\n",
              "      <th>Residual</th>\n",
              "      <td>4.388998</td>\n",
              "      <td>20.0</td>\n",
              "      <td>NaN</td>\n",
              "      <td>NaN</td>\n",
              "    </tr>\n",
              "  </tbody>\n",
              "</table>\n",
              "</div>"
            ],
            "text/plain": [
              "               sum_sq    df         F    PR(>F)\n",
              "C(Age)      12.284282  50.0  1.119552  0.403885\n",
              "C(Glucose)  11.768145  49.0  1.094401  0.426949\n",
              "Residual     4.388998  20.0       NaN       NaN"
            ]
          },
          "metadata": {},
          "execution_count": 163
        }
      ]
    },
    {
      "cell_type": "code",
      "metadata": {
        "colab": {
          "base_uri": "https://localhost:8080/"
        },
        "id": "mQqTQAyiR6bf",
        "outputId": "0ef9a561-2b8a-48a1-91d2-fe359b6ccb75"
      },
      "source": [
        "!pip install bioinfokit"
      ],
      "execution_count": 164,
      "outputs": [
        {
          "output_type": "stream",
          "name": "stdout",
          "text": [
            "Requirement already satisfied: bioinfokit in /usr/local/lib/python3.7/dist-packages (2.0.8)\n",
            "Requirement already satisfied: statsmodels in /usr/local/lib/python3.7/dist-packages (from bioinfokit) (0.10.2)\n",
            "Requirement already satisfied: numpy in /usr/local/lib/python3.7/dist-packages (from bioinfokit) (1.19.5)\n",
            "Requirement already satisfied: matplotlib-venn in /usr/local/lib/python3.7/dist-packages (from bioinfokit) (0.11.6)\n",
            "Requirement already satisfied: scikit-learn in /usr/local/lib/python3.7/dist-packages (from bioinfokit) (1.0.1)\n",
            "Requirement already satisfied: scipy in /usr/local/lib/python3.7/dist-packages (from bioinfokit) (1.4.1)\n",
            "Requirement already satisfied: tabulate in /usr/local/lib/python3.7/dist-packages (from bioinfokit) (0.8.9)\n",
            "Requirement already satisfied: textwrap3 in /usr/local/lib/python3.7/dist-packages (from bioinfokit) (0.9.2)\n",
            "Requirement already satisfied: adjustText in /usr/local/lib/python3.7/dist-packages (from bioinfokit) (0.7.3)\n",
            "Requirement already satisfied: seaborn in /usr/local/lib/python3.7/dist-packages (from bioinfokit) (0.11.2)\n",
            "Requirement already satisfied: pandas in /usr/local/lib/python3.7/dist-packages (from bioinfokit) (1.1.5)\n",
            "Requirement already satisfied: matplotlib in /usr/local/lib/python3.7/dist-packages (from bioinfokit) (3.2.2)\n",
            "Requirement already satisfied: kiwisolver>=1.0.1 in /usr/local/lib/python3.7/dist-packages (from matplotlib->bioinfokit) (1.3.2)\n",
            "Requirement already satisfied: python-dateutil>=2.1 in /usr/local/lib/python3.7/dist-packages (from matplotlib->bioinfokit) (2.8.2)\n",
            "Requirement already satisfied: pyparsing!=2.0.4,!=2.1.2,!=2.1.6,>=2.0.1 in /usr/local/lib/python3.7/dist-packages (from matplotlib->bioinfokit) (3.0.6)\n",
            "Requirement already satisfied: cycler>=0.10 in /usr/local/lib/python3.7/dist-packages (from matplotlib->bioinfokit) (0.11.0)\n",
            "Requirement already satisfied: six>=1.5 in /usr/local/lib/python3.7/dist-packages (from python-dateutil>=2.1->matplotlib->bioinfokit) (1.15.0)\n",
            "Requirement already satisfied: pytz>=2017.2 in /usr/local/lib/python3.7/dist-packages (from pandas->bioinfokit) (2018.9)\n",
            "Requirement already satisfied: joblib>=0.11 in /usr/local/lib/python3.7/dist-packages (from scikit-learn->bioinfokit) (1.1.0)\n",
            "Requirement already satisfied: threadpoolctl>=2.0.0 in /usr/local/lib/python3.7/dist-packages (from scikit-learn->bioinfokit) (3.0.0)\n",
            "Requirement already satisfied: patsy>=0.4.0 in /usr/local/lib/python3.7/dist-packages (from statsmodels->bioinfokit) (0.5.2)\n"
          ]
        }
      ]
    },
    {
      "cell_type": "code",
      "metadata": {
        "id": "tu-dfUmuSRFa"
      },
      "source": [
        "from bioinfokit.analys import stat "
      ],
      "execution_count": 165,
      "outputs": []
    },
    {
      "cell_type": "code",
      "metadata": {
        "id": "eMenMiMxS4Oc"
      },
      "source": [
        "res = stat()"
      ],
      "execution_count": 166,
      "outputs": []
    },
    {
      "cell_type": "code",
      "metadata": {
        "id": "JjYgjF654Oj9",
        "colab": {
          "base_uri": "https://localhost:8080/",
          "height": 583
        },
        "outputId": "f8f80a8f-f4cc-42e0-ab15-f0656f4d40aa"
      },
      "source": [
        "res.tukey_hsd (df=workingdf, res_var='Classification', xfac_var='Age', anova_model='Classification~C(Age)+C(Glucose)+C(Age):C(Glucose)')\n",
        "res.tukey_summary"
      ],
      "execution_count": 184,
      "outputs": [
        {
          "output_type": "stream",
          "name": "stderr",
          "text": [
            "/usr/local/lib/python3.7/dist-packages/statsmodels/base/model.py:1752: ValueWarning: covariance of constraints does not have full rank. The number of constraints is 50, but rank is 0\n",
            "  'rank is %d' % (J, J_), ValueWarning)\n",
            "/usr/local/lib/python3.7/dist-packages/statsmodels/base/model.py:1768: RuntimeWarning: invalid value encountered in true_divide\n",
            "  F /= J\n",
            "/usr/local/lib/python3.7/dist-packages/statsmodels/base/model.py:1752: ValueWarning: covariance of constraints does not have full rank. The number of constraints is 49, but rank is 0\n",
            "  'rank is %d' % (J, J_), ValueWarning)\n",
            "/usr/local/lib/python3.7/dist-packages/statsmodels/base/model.py:1752: ValueWarning: covariance of constraints does not have full rank. The number of constraints is 2450, but rank is 111\n",
            "  'rank is %d' % (J, J_), ValueWarning)\n"
          ]
        },
        {
          "output_type": "execute_result",
          "data": {
            "text/html": [
              "<div>\n",
              "<style scoped>\n",
              "    .dataframe tbody tr th:only-of-type {\n",
              "        vertical-align: middle;\n",
              "    }\n",
              "\n",
              "    .dataframe tbody tr th {\n",
              "        vertical-align: top;\n",
              "    }\n",
              "\n",
              "    .dataframe thead th {\n",
              "        text-align: right;\n",
              "    }\n",
              "</style>\n",
              "<table border=\"1\" class=\"dataframe\">\n",
              "  <thead>\n",
              "    <tr style=\"text-align: right;\">\n",
              "      <th></th>\n",
              "      <th>group1</th>\n",
              "      <th>group2</th>\n",
              "      <th>Diff</th>\n",
              "      <th>Lower</th>\n",
              "      <th>Upper</th>\n",
              "      <th>q-value</th>\n",
              "      <th>p-value</th>\n",
              "    </tr>\n",
              "  </thead>\n",
              "  <tbody>\n",
              "    <tr>\n",
              "      <th>0</th>\n",
              "      <td>48</td>\n",
              "      <td>83</td>\n",
              "      <td>0.750000</td>\n",
              "      <td>7.500000e-01</td>\n",
              "      <td>7.500000e-01</td>\n",
              "      <td>8.048894e+13</td>\n",
              "      <td>0.001</td>\n",
              "    </tr>\n",
              "    <tr>\n",
              "      <th>1</th>\n",
              "      <td>48</td>\n",
              "      <td>82</td>\n",
              "      <td>0.250000</td>\n",
              "      <td>2.500000e-01</td>\n",
              "      <td>2.500000e-01</td>\n",
              "      <td>3.463693e+13</td>\n",
              "      <td>0.001</td>\n",
              "    </tr>\n",
              "    <tr>\n",
              "      <th>2</th>\n",
              "      <td>48</td>\n",
              "      <td>68</td>\n",
              "      <td>0.083333</td>\n",
              "      <td>8.333333e-02</td>\n",
              "      <td>8.333333e-02</td>\n",
              "      <td>1.309153e+13</td>\n",
              "      <td>0.001</td>\n",
              "    </tr>\n",
              "    <tr>\n",
              "      <th>3</th>\n",
              "      <td>48</td>\n",
              "      <td>86</td>\n",
              "      <td>0.083333</td>\n",
              "      <td>8.333333e-02</td>\n",
              "      <td>8.333333e-02</td>\n",
              "      <td>1.309153e+13</td>\n",
              "      <td>0.001</td>\n",
              "    </tr>\n",
              "    <tr>\n",
              "      <th>4</th>\n",
              "      <td>48</td>\n",
              "      <td>49</td>\n",
              "      <td>0.050000</td>\n",
              "      <td>5.000000e-02</td>\n",
              "      <td>5.000000e-02</td>\n",
              "      <td>8.943216e+12</td>\n",
              "      <td>0.001</td>\n",
              "    </tr>\n",
              "    <tr>\n",
              "      <th>...</th>\n",
              "      <td>...</td>\n",
              "      <td>...</td>\n",
              "      <td>...</td>\n",
              "      <td>...</td>\n",
              "      <td>...</td>\n",
              "      <td>...</td>\n",
              "      <td>...</td>\n",
              "    </tr>\n",
              "    <tr>\n",
              "      <th>1270</th>\n",
              "      <td>40</td>\n",
              "      <td>74</td>\n",
              "      <td>0.000000</td>\n",
              "      <td>-1.368274e-13</td>\n",
              "      <td>1.368274e-13</td>\n",
              "      <td>0.000000e+00</td>\n",
              "      <td>0.900</td>\n",
              "    </tr>\n",
              "    <tr>\n",
              "      <th>1271</th>\n",
              "      <td>40</td>\n",
              "      <td>57</td>\n",
              "      <td>0.000000</td>\n",
              "      <td>-1.368274e-13</td>\n",
              "      <td>1.368274e-13</td>\n",
              "      <td>0.000000e+00</td>\n",
              "      <td>0.900</td>\n",
              "    </tr>\n",
              "    <tr>\n",
              "      <th>1272</th>\n",
              "      <td>52</td>\n",
              "      <td>74</td>\n",
              "      <td>0.000000</td>\n",
              "      <td>-1.579946e-13</td>\n",
              "      <td>1.579946e-13</td>\n",
              "      <td>0.000000e+00</td>\n",
              "      <td>0.900</td>\n",
              "    </tr>\n",
              "    <tr>\n",
              "      <th>1273</th>\n",
              "      <td>52</td>\n",
              "      <td>57</td>\n",
              "      <td>0.000000</td>\n",
              "      <td>-1.579946e-13</td>\n",
              "      <td>1.579946e-13</td>\n",
              "      <td>0.000000e+00</td>\n",
              "      <td>0.900</td>\n",
              "    </tr>\n",
              "    <tr>\n",
              "      <th>1274</th>\n",
              "      <td>74</td>\n",
              "      <td>57</td>\n",
              "      <td>0.000000</td>\n",
              "      <td>-1.579946e-13</td>\n",
              "      <td>1.579946e-13</td>\n",
              "      <td>0.000000e+00</td>\n",
              "      <td>0.900</td>\n",
              "    </tr>\n",
              "  </tbody>\n",
              "</table>\n",
              "<p>1275 rows × 7 columns</p>\n",
              "</div>"
            ],
            "text/plain": [
              "      group1  group2      Diff  ...         Upper       q-value  p-value\n",
              "0         48      83  0.750000  ...  7.500000e-01  8.048894e+13    0.001\n",
              "1         48      82  0.250000  ...  2.500000e-01  3.463693e+13    0.001\n",
              "2         48      68  0.083333  ...  8.333333e-02  1.309153e+13    0.001\n",
              "3         48      86  0.083333  ...  8.333333e-02  1.309153e+13    0.001\n",
              "4         48      49  0.050000  ...  5.000000e-02  8.943216e+12    0.001\n",
              "...      ...     ...       ...  ...           ...           ...      ...\n",
              "1270      40      74  0.000000  ...  1.368274e-13  0.000000e+00    0.900\n",
              "1271      40      57  0.000000  ...  1.368274e-13  0.000000e+00    0.900\n",
              "1272      52      74  0.000000  ...  1.579946e-13  0.000000e+00    0.900\n",
              "1273      52      57  0.000000  ...  1.579946e-13  0.000000e+00    0.900\n",
              "1274      74      57  0.000000  ...  1.579946e-13  0.000000e+00    0.900\n",
              "\n",
              "[1275 rows x 7 columns]"
            ]
          },
          "metadata": {},
          "execution_count": 184
        }
      ]
    },
    {
      "cell_type": "code",
      "metadata": {
        "id": "Ywb5W8JM4iLk",
        "colab": {
          "base_uri": "https://localhost:8080/",
          "height": 279
        },
        "outputId": "d18a4985-0d9c-493f-a1f5-d791cec8e9c9"
      },
      "source": [
        "# QQ-plot\n",
        "import statsmodels.api as sm\n",
        "import matplotlib.pyplot as plt\n",
        "# res.anova_std_residuals are standardized residuals obtained from two-way ANOVA (check above)\n",
        "sm.qqplot(res.anova_std_residuals, line='45')\n",
        "plt.xlabel(\"Theoretical Quantiles\")\n",
        "plt.ylabel(\"Standardized Residuals\")\n",
        "plt.show()\n"
      ],
      "execution_count": 185,
      "outputs": [
        {
          "output_type": "display_data",
          "data": {
            "image/png": "[encoded data removed]",
            "text/plain": [
              "<Figure size 432x288 with 1 Axes>"
            ]
          },
          "metadata": {
            "needs_background": "light"
          }
        }
      ]
    },
    {
      "cell_type": "code",
      "metadata": {
        "id": "9EiQmvMh8jz2",
        "colab": {
          "base_uri": "https://localhost:8080/",
          "height": 279
        },
        "outputId": "2783e80c-cde7-4ae2-aa4c-3f50d2cf9390"
      },
      "source": [
        "# histogram\n",
        "plt.hist(res.anova_model_out.resid, bins='auto', histtype='bar', ec='k') \n",
        "plt.xlabel(\"Residuals\")\n",
        "plt.ylabel('Frequency')\n",
        "plt.show()"
      ],
      "execution_count": 186,
      "outputs": [
        {
          "output_type": "display_data",
          "data": {
            "image/png": "[encoded data removed]",
            "text/plain": [
              "<Figure size 432x288 with 1 Axes>"
            ]
          },
          "metadata": {
            "needs_background": "light"
          }
        }
      ]
    },
    {
      "cell_type": "code",
      "metadata": {
        "id": "-HRhMqDS8rSr",
        "colab": {
          "base_uri": "https://localhost:8080/"
        },
        "outputId": "1102736d-3272-42ed-d169-3bda0094a3f7"
      },
      "source": [
        "# Shapiro-Wilk test\n",
        "import scipy.stats as stats\n",
        "w, pvalue = stats.shapiro(res.anova_model_out.resid)\n",
        "print(w, pvalue)"
      ],
      "execution_count": 187,
      "outputs": [
        {
          "output_type": "stream",
          "name": "stdout",
          "text": [
            "0.981805682182312 0.11731895804405212\n"
          ]
        }
      ]
    },
    {
      "cell_type": "code",
      "metadata": {
        "id": "g4yaEjN_8ua_",
        "colab": {
          "base_uri": "https://localhost:8080/",
          "height": 213
        },
        "outputId": "1f89d787-c82e-46c6-9688-918751bb6647"
      },
      "source": [
        "# if you have  a stacked table, you can use bioinfokit v1.0.3 or later for the Levene's test\n",
        "from bioinfokit.analys import stat \n",
        "res = stat()\n",
        "res.levene(df=workingdf, res_var='Classification', xfac_var=['Age', 'Glucose'])\n",
        "res.levene_summary"
      ],
      "execution_count": 189,
      "outputs": [
        {
          "output_type": "stream",
          "name": "stderr",
          "text": [
            "/usr/local/lib/python3.7/dist-packages/numpy/core/fromnumeric.py:3373: RuntimeWarning: Mean of empty slice.\n",
            "  out=out, **kwargs)\n",
            "/usr/local/lib/python3.7/dist-packages/numpy/core/_methods.py:170: RuntimeWarning: invalid value encountered in double_scalars\n",
            "  ret = ret.dtype.type(ret / rcount)\n"
          ]
        },
        {
          "output_type": "execute_result",
          "data": {
            "text/html": [
              "<div>\n",
              "<style scoped>\n",
              "    .dataframe tbody tr th:only-of-type {\n",
              "        vertical-align: middle;\n",
              "    }\n",
              "\n",
              "    .dataframe tbody tr th {\n",
              "        vertical-align: top;\n",
              "    }\n",
              "\n",
              "    .dataframe thead th {\n",
              "        text-align: right;\n",
              "    }\n",
              "</style>\n",
              "<table border=\"1\" class=\"dataframe\">\n",
              "  <thead>\n",
              "    <tr style=\"text-align: right;\">\n",
              "      <th></th>\n",
              "      <th>Parameter</th>\n",
              "      <th>Value</th>\n",
              "    </tr>\n",
              "  </thead>\n",
              "  <tbody>\n",
              "    <tr>\n",
              "      <th>0</th>\n",
              "      <td>Test statistics (W)</td>\n",
              "      <td>NaN</td>\n",
              "    </tr>\n",
              "    <tr>\n",
              "      <th>1</th>\n",
              "      <td>Degrees of freedom (Df)</td>\n",
              "      <td>2549.0</td>\n",
              "    </tr>\n",
              "    <tr>\n",
              "      <th>2</th>\n",
              "      <td>p value</td>\n",
              "      <td>NaN</td>\n",
              "    </tr>\n",
              "  </tbody>\n",
              "</table>\n",
              "</div>"
            ],
            "text/plain": [
              "                 Parameter   Value\n",
              "0      Test statistics (W)     NaN\n",
              "1  Degrees of freedom (Df)  2549.0\n",
              "2                  p value     NaN"
            ]
          },
          "metadata": {},
          "execution_count": 189
        }
      ]
    }
  ]
}