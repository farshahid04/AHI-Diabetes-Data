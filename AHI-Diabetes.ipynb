{
  "nbformat": 4,
  "nbformat_minor": 0,
  "metadata": {
    "colab": {
      "name": "Untitled",
      "provenance": [],
      "authorship_tag": "ABX9TyNrcji7UM/xaqUYSvLhRwlj",
      "include_colab_link": true
    },
    "kernelspec": {
      "name": "python3",
      "display_name": "Python 3"
    },
    "language_info": {
      "name": "python"
    }
  },
  "cells": [
    {
      "cell_type": "markdown",
      "metadata": {
        "id": "view-in-github",
        "colab_type": "text"
      },
      "source": [
        "<a href=\"https://colab.research.google.com/github/farshahid04/AHI-Diabetes-Data/blob/main/AHI-Diabetes.ipynb\" target=\"_parent\"><img src=\"https://colab.research.google.com/assets/colab-badge.svg\" alt=\"Open In Colab\"/></a>"
      ]
    },
    {
      "cell_type": "code",
      "metadata": {
        "id": "0DQyby8wH0cN"
      },
      "source": [
        ""
      ],
      "execution_count": null,
      "outputs": []
    },
    {
      "cell_type": "code",
      "metadata": {
        "colab": {
          "base_uri": "https://localhost:8080/",
          "height": 1000
        },
        "id": "z6AoT15nH9bZ",
        "outputId": "fffa26b3-5007-44c6-ae2a-2c7430c60adc"
      },
      "source": [
        "import pandas as pd\n",
        "import numpy as np \n",
        "\n",
        "diabetes = pd.read_csv('https://raw.githubusercontent.com/hantswilliams/AHI_DataSci_507/main/Datasets/Diabetes/DB1_Diabetes/diabetic_data.csv')\n",
        "\n",
        "diabetes_small = diabetes.sample(100)\n",
        "\n",
        "\n",
        "## Data transformation step \n",
        "\n",
        "diabetes = diabetes.replace('?', np.NaN)\n",
        "\n",
        "\n",
        "\n",
        "### generate list of var names \n",
        "list(diabetes_small)\n",
        "\n",
        "\n",
        "# 1 factor of RACE has 5 levels: \n",
        "    \n",
        "# Lets replace nan for diabetes.race with 'Other'\n",
        "\n",
        "diabetes['race'] = diabetes['race'].replace(np.NaN, 'Other')    \n",
        "diabetes.race.value_counts()\n",
        "diabetes['race'].value_counts() \n",
        "len(diabetes['race'].value_counts() )\n",
        "\n",
        "# 1 factor of AGE we have 10 levels \n",
        "diabetes.age.value_counts() \n",
        "diabetes['age'].value_counts() \n",
        "\n",
        "# 1 factor of PAYER_CODE we have 17 levels \n",
        "diabetes.payer_code.value_counts()\n",
        "len(diabetes.payer_code.value_counts())\n",
        "\n",
        "# 1 factor of medical_specialty we have 72 levels \n",
        "diabetes.medical_specialty.value_counts()\n",
        "len(diabetes.medical_specialty.value_counts())\n",
        "\n",
        "specialtycounts = pd.DataFrame(diabetes.medical_specialty.value_counts())      \n",
        "specialtycounts = specialtycounts.reset_index()\n",
        "\n",
        "\n",
        "#### Continuous values: \n",
        "    \n",
        "timeinhospital = diabetes['time_in_hospital']\n",
        "labprocedures = diabetes['num_lab_procedures'] \n",
        "\n",
        "\n",
        "\n",
        "\n",
        "# 1 way anova \n",
        "# 1 DV - time_in_hospital\n",
        "# 1 IV - Race \n",
        "\n",
        "# is there a difference between the \"levels\" of race \n",
        "# and time in hospital? \n",
        "\n",
        "\n",
        "### Checking assumptions....\n",
        "\n",
        "# From regression or ANOVA framework\n",
        "import pandas as pd\n",
        "import scipy.stats as stats\n",
        "import statsmodels.formula.api as smf\n",
        "import matplotlib.pyplot as plt\n",
        "from scipy.stats import kurtosis, skew, bartlett\n",
        "\n",
        "\n",
        "# DV ~ C(IV) + C(IV)\n",
        "model = smf.ols(\"time_in_hospital ~ C(race)\", data = diabetes).fit()\n",
        "stats.shapiro(model.resid)\n",
        "\n",
        "\n",
        "\n",
        "# Lets create a chart \n",
        "\n",
        "race1 = diabetes[diabetes['race'] == 'Caucasian']\n",
        "race2 = diabetes[diabetes['race'] == 'AfricanAmerican']\n",
        "race3 = diabetes[diabetes['race'] == 'Other']\n",
        "race4 = diabetes[diabetes['race'] == 'Hispanic']\n",
        "race5 = diabetes[diabetes['race'] == 'Asian']\n",
        "\n",
        "plt.hist(race1['time_in_hospital'])\n",
        "plt.show()\n",
        "\n",
        "plt.hist(race2['time_in_hospital'])\n",
        "plt.show()\n",
        "\n",
        "plt.hist(race3['time_in_hospital'])\n",
        "plt.show()\n",
        "\n",
        "plt.hist(race4['time_in_hospital'])\n",
        "plt.show()\n",
        "\n",
        "plt.hist(race5['time_in_hospital'])\n",
        "plt.show()\n",
        "\n",
        "\n",
        "\n",
        "# kertosis \n",
        "print(kurtosis(race1['time_in_hospital']))\n",
        "print(kurtosis(race2['time_in_hospital']))\n",
        "print(kurtosis(race3['time_in_hospital']))\n",
        "print(kurtosis(race4['time_in_hospital']))\n",
        "print(kurtosis(race5['time_in_hospital']))\n",
        "\n",
        "# skewness \n",
        "print('skew white: ', skew(race1['time_in_hospital']))\n",
        "print('skew black: ', skew(race2['time_in_hospital']))\n",
        "print(skew(race3['time_in_hospital']))\n",
        "print(skew(race4['time_in_hospital']))\n",
        "print(skew(race5['time_in_hospital']))\n",
        "\n",
        "\n",
        "#### Homogeneity of Variance \n",
        "## barlett test \n",
        "\n",
        "\n",
        "stats.bartlett(race1['time_in_hospital'],\n",
        "               race2['time_in_hospital'],\n",
        "               race3['time_in_hospital'],\n",
        "               race4['time_in_hospital'],\n",
        "               race5['time_in_hospital']\n",
        "               )\n",
        "\n",
        "\n",
        "\n",
        "\n",
        "\n",
        "\n",
        "## Template \n",
        "stats.f_oneway(race1['time_in_hospital'],\n",
        "               race2['time_in_hospital'],\n",
        "               race3['time_in_hospital'],\n",
        "               race4['time_in_hospital'],\n",
        "               race5['time_in_hospital'])\n",
        "\n",
        "## Post-hoc analysis for significant differences between groups\n",
        "# TUKEY HONESTLY SIGNIFICANT DIFFERENCE (HSD)\n",
        "import statsmodels.stats.multicomp as mc\n",
        "comp = mc.MultiComparison(diabetes['time_in_hospital'], diabetes['race'])\n",
        "post_hoc_res = comp.tukeyhsd()\n",
        "tukey1way = pd.DataFrame(post_hoc_res.summary())\n",
        "\n",
        "\n",
        "\n",
        "race1['time_in_hospital'].describe()\n",
        "race2['time_in_hospital'].describe()\n",
        "race5['time_in_hospital'].describe()\n"
      ],
      "execution_count": 4,
      "outputs": [
        {
          "output_type": "stream",
          "name": "stderr",
          "text": [
            "/usr/local/lib/python3.7/dist-packages/scipy/stats/morestats.py:1676: UserWarning: p-value may not be accurate for N > 5000.\n",
            "  warnings.warn(\"p-value may not be accurate for N > 5000.\")\n"
          ]
        },
        {
          "output_type": "display_data",
          "data": {
            "image/png": "[encoded data removed]",
            "text/plain": [
              "<Figure size 432x288 with 1 Axes>"
            ]
          },
          "metadata": {
            "needs_background": "light"
          }
        },
        {
          "output_type": "display_data",
          "data": {
            "image/png": "[encoded data removed]",
            "text/plain": [
              "<Figure size 432x288 with 1 Axes>"
            ]
          },
          "metadata": {
            "needs_background": "light"
          }
        },
        {
          "output_type": "display_data",
          "data": {
            "image/png": "[encoded data removed]",
            "text/plain": [
              "<Figure size 432x288 with 1 Axes>"
            ]
          },
          "metadata": {
            "needs_background": "light"
          }
        },
        {
          "output_type": "display_data",
          "data": {
            "image/png": "[encoded data removed]",
            "text/plain": [
              "<Figure size 432x288 with 1 Axes>"
            ]
          },
          "metadata": {
            "needs_background": "light"
          }
        },
        {
          "output_type": "display_data",
          "data": {
            "image/png": "[encoded data removed]",
            "text/plain": [
              "<Figure size 432x288 with 1 Axes>"
            ]
          },
          "metadata": {
            "needs_background": "light"
          }
        },
        {
          "output_type": "stream",
          "name": "stdout",
          "text": [
            "0.8834122077940734\n",
            "0.6547313580465812\n",
            "0.8815173137212615\n",
            "1.452966930425375\n",
            "1.3433672142980733\n",
            "skew white:  1.1408338820115953\n",
            "skew black:  1.0842526277672324\n",
            "1.1457212691157455\n",
            "1.2932546139163583\n",
            "1.2876932024458374\n"
          ]
        },
        {
          "output_type": "execute_result",
          "data": {
            "text/plain": [
              "count    641.000000\n",
              "mean       3.995320\n",
              "std        2.937097\n",
              "min        1.000000\n",
              "25%        2.000000\n",
              "50%        3.000000\n",
              "75%        5.000000\n",
              "max       14.000000\n",
              "Name: time_in_hospital, dtype: float64"
            ]
          },
          "metadata": {},
          "execution_count": 4
        }
      ]
    }
  ]
}